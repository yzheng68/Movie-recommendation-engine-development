{
 "cells": [
  {
   "cell_type": "markdown",
   "metadata": {},
   "source": [
    "# Movie recommendation engine development: a hybrid approach combinding collaborative filtering and matrix factorization\n",
    "\n"
   ]
  },
  {
   "cell_type": "code",
   "execution_count": 1,
   "metadata": {},
   "outputs": [
    {
     "name": "stderr",
     "output_type": "stream",
     "text": [
      "/usr/local/lib/python3.7/site-packages/fuzzywuzzy/fuzz.py:11: UserWarning: Using slow pure-python SequenceMatcher. Install python-Levenshtein to remove this warning\n",
      "  warnings.warn('Using slow pure-python SequenceMatcher. Install python-Levenshtein to remove this warning')\n"
     ]
    }
   ],
   "source": [
    "import pandas as pd \n",
    "import numpy as np\n",
    "import seaborn as sns\n",
    "import matplotlib.pyplot as plt\n",
    "plt.style.use('ggplot')\n",
    "#from sklearn.model_selection import train_test_split\n",
    "%matplotlib inline\n",
    "import os\n",
    "os.chdir(\"./Downloads/ml-20m\")\n",
    "from sklearn.neighbors import NearestNeighbors\n",
    "#from scipy.sparse import csr_matrix\n",
    "from fuzzywuzzy import fuzz\n",
    "from itertools import chain"
   ]
  },
  {
   "cell_type": "markdown",
   "metadata": {},
   "source": [
    "1. Load in data"
   ]
  },
  {
   "cell_type": "code",
   "execution_count": 2,
   "metadata": {},
   "outputs": [
    {
     "data": {
      "text/html": [
       "<div>\n",
       "<style scoped>\n",
       "    .dataframe tbody tr th:only-of-type {\n",
       "        vertical-align: middle;\n",
       "    }\n",
       "\n",
       "    .dataframe tbody tr th {\n",
       "        vertical-align: top;\n",
       "    }\n",
       "\n",
       "    .dataframe thead th {\n",
       "        text-align: right;\n",
       "    }\n",
       "</style>\n",
       "<table border=\"1\" class=\"dataframe\">\n",
       "  <thead>\n",
       "    <tr style=\"text-align: right;\">\n",
       "      <th></th>\n",
       "      <th>userId</th>\n",
       "      <th>movieId</th>\n",
       "      <th>rating</th>\n",
       "      <th>timestamp</th>\n",
       "    </tr>\n",
       "  </thead>\n",
       "  <tbody>\n",
       "    <tr>\n",
       "      <th>0</th>\n",
       "      <td>1</td>\n",
       "      <td>2</td>\n",
       "      <td>3.5</td>\n",
       "      <td>1112486027</td>\n",
       "    </tr>\n",
       "    <tr>\n",
       "      <th>1</th>\n",
       "      <td>1</td>\n",
       "      <td>29</td>\n",
       "      <td>3.5</td>\n",
       "      <td>1112484676</td>\n",
       "    </tr>\n",
       "    <tr>\n",
       "      <th>2</th>\n",
       "      <td>1</td>\n",
       "      <td>32</td>\n",
       "      <td>3.5</td>\n",
       "      <td>1112484819</td>\n",
       "    </tr>\n",
       "    <tr>\n",
       "      <th>3</th>\n",
       "      <td>1</td>\n",
       "      <td>47</td>\n",
       "      <td>3.5</td>\n",
       "      <td>1112484727</td>\n",
       "    </tr>\n",
       "    <tr>\n",
       "      <th>4</th>\n",
       "      <td>1</td>\n",
       "      <td>50</td>\n",
       "      <td>3.5</td>\n",
       "      <td>1112484580</td>\n",
       "    </tr>\n",
       "  </tbody>\n",
       "</table>\n",
       "</div>"
      ],
      "text/plain": [
       "   userId  movieId  rating   timestamp\n",
       "0       1        2     3.5  1112486027\n",
       "1       1       29     3.5  1112484676\n",
       "2       1       32     3.5  1112484819\n",
       "3       1       47     3.5  1112484727\n",
       "4       1       50     3.5  1112484580"
      ]
     },
     "execution_count": 2,
     "metadata": {},
     "output_type": "execute_result"
    }
   ],
   "source": [
    "#reading rating data\n",
    "ratings = pd.read_csv('ratings.csv')\n",
    "ratings.head()"
   ]
  },
  {
   "cell_type": "code",
   "execution_count": 8,
   "metadata": {},
   "outputs": [
    {
     "data": {
      "text/plain": [
       "(20000263, 4)"
      ]
     },
     "execution_count": 8,
     "metadata": {},
     "output_type": "execute_result"
    }
   ],
   "source": [
    "ratings.shape"
   ]
  },
  {
   "cell_type": "code",
   "execution_count": 3,
   "metadata": {},
   "outputs": [
    {
     "data": {
      "text/html": [
       "<div>\n",
       "<style scoped>\n",
       "    .dataframe tbody tr th:only-of-type {\n",
       "        vertical-align: middle;\n",
       "    }\n",
       "\n",
       "    .dataframe tbody tr th {\n",
       "        vertical-align: top;\n",
       "    }\n",
       "\n",
       "    .dataframe thead th {\n",
       "        text-align: right;\n",
       "    }\n",
       "</style>\n",
       "<table border=\"1\" class=\"dataframe\">\n",
       "  <thead>\n",
       "    <tr style=\"text-align: right;\">\n",
       "      <th></th>\n",
       "      <th>movieId</th>\n",
       "      <th>title</th>\n",
       "      <th>genres</th>\n",
       "    </tr>\n",
       "  </thead>\n",
       "  <tbody>\n",
       "    <tr>\n",
       "      <th>0</th>\n",
       "      <td>1</td>\n",
       "      <td>Toy Story (1995)</td>\n",
       "      <td>Adventure|Animation|Children|Comedy|Fantasy</td>\n",
       "    </tr>\n",
       "    <tr>\n",
       "      <th>1</th>\n",
       "      <td>2</td>\n",
       "      <td>Jumanji (1995)</td>\n",
       "      <td>Adventure|Children|Fantasy</td>\n",
       "    </tr>\n",
       "    <tr>\n",
       "      <th>2</th>\n",
       "      <td>3</td>\n",
       "      <td>Grumpier Old Men (1995)</td>\n",
       "      <td>Comedy|Romance</td>\n",
       "    </tr>\n",
       "    <tr>\n",
       "      <th>3</th>\n",
       "      <td>4</td>\n",
       "      <td>Waiting to Exhale (1995)</td>\n",
       "      <td>Comedy|Drama|Romance</td>\n",
       "    </tr>\n",
       "    <tr>\n",
       "      <th>4</th>\n",
       "      <td>5</td>\n",
       "      <td>Father of the Bride Part II (1995)</td>\n",
       "      <td>Comedy</td>\n",
       "    </tr>\n",
       "  </tbody>\n",
       "</table>\n",
       "</div>"
      ],
      "text/plain": [
       "   movieId                               title  \\\n",
       "0        1                    Toy Story (1995)   \n",
       "1        2                      Jumanji (1995)   \n",
       "2        3             Grumpier Old Men (1995)   \n",
       "3        4            Waiting to Exhale (1995)   \n",
       "4        5  Father of the Bride Part II (1995)   \n",
       "\n",
       "                                        genres  \n",
       "0  Adventure|Animation|Children|Comedy|Fantasy  \n",
       "1                   Adventure|Children|Fantasy  \n",
       "2                               Comedy|Romance  \n",
       "3                         Comedy|Drama|Romance  \n",
       "4                                       Comedy  "
      ]
     },
     "execution_count": 3,
     "metadata": {},
     "output_type": "execute_result"
    }
   ],
   "source": [
    "#reading movie data\n",
    "\n",
    "movies=pd.read_csv('movies.csv')\n",
    "movies.head()\n"
   ]
  },
  {
   "cell_type": "code",
   "execution_count": 7,
   "metadata": {},
   "outputs": [
    {
     "data": {
      "text/plain": [
       "(27278, 3)"
      ]
     },
     "execution_count": 7,
     "metadata": {},
     "output_type": "execute_result"
    }
   ],
   "source": [
    "movies.shape"
   ]
  },
  {
   "cell_type": "code",
   "execution_count": 4,
   "metadata": {},
   "outputs": [
    {
     "name": "stdout",
     "output_type": "stream",
     "text": [
      "There are 138493 unique users and 26744 unique movies in this data set\n"
     ]
    }
   ],
   "source": [
    "n_users = ratings.userId.unique().shape[0]\n",
    "n_items = ratings.movieId.unique().shape[0]\n",
    "print('There are {} unique users and {} unique movies in this data set'.format(n_users, n_items))"
   ]
  },
  {
   "cell_type": "markdown",
   "metadata": {},
   "source": [
    "2. Exploration "
   ]
  },
  {
   "cell_type": "code",
   "execution_count": 5,
   "metadata": {},
   "outputs": [],
   "source": [
    "movie_ct=pd.DataFrame(ratings.groupby('movieId').size(),columns=['count'])\n",
    "movie_ct1=movie_ct .sort_values('count', ascending=False).reset_index(drop=True)"
   ]
  },
  {
   "cell_type": "code",
   "execution_count": 9,
   "metadata": {},
   "outputs": [
    {
     "data": {
      "image/png": "[encoded data removed]",
      "text/plain": [
       "<Figure size 864x288 with 2 Axes>"
      ]
     },
     "metadata": {
      "needs_background": "light"
     },
     "output_type": "display_data"
    }
   ],
   "source": [
    "# plot rating frequency of all movies\n",
    "fig = plt.figure(figsize=(12, 4))\n",
    "ax1 = fig.add_subplot(221)\n",
    "ax1.plot(movie_ct1)\n",
    "ax1.set_xlabel(\"movie Id\")\n",
    "ax1.set_ylabel(\"number of ratings\")\n",
    "\n",
    "ax1.set_title('Rating Frequency of All Movies')\n",
    "\n",
    "ax2 = fig.add_subplot(222)\n",
    "ax2.plot(movie_ct1)\n",
    "ax2.set_xlabel(\"movie Id\")\n",
    "ax2.set_ylabel(\"number of ratings\")\n",
    "ax2.set_yscale('log')\n",
    "ax2.set_title('Rating Frequency of All Movies(in Log Scale)')\n",
    "plt.show()"
   ]
  },
  {
   "cell_type": "markdown",
   "metadata": {},
   "source": [
    "The distribution for count of ratings on each movie are pretty skewed. 11744 out of 26744 movies received less than 10 ratings. "
   ]
  },
  {
   "cell_type": "code",
   "execution_count": 6,
   "metadata": {
    "scrolled": true
   },
   "outputs": [
    {
     "data": {
      "text/plain": [
       "1.00    67310.00\n",
       "0.95     3612.95\n",
       "0.90     1305.70\n",
       "0.85      632.55\n",
       "0.80      346.00\n",
       "0.75      205.00\n",
       "0.70      123.00\n",
       "0.65       74.00\n",
       "0.60       47.00\n",
       "0.55       29.00\n",
       "Name: count, dtype: float64"
      ]
     },
     "execution_count": 6,
     "metadata": {},
     "output_type": "execute_result"
    }
   ],
   "source": [
    "movie_ct['count'].quantile(np.arange(1, 0.5, -0.05))\n"
   ]
  },
  {
   "cell_type": "markdown",
   "metadata": {},
   "source": [
    "About 10% of the movies have 1305 or more ratings. 40% of the movies have 47 or less ratings. I would like to filter out movies which have at least 50 ratings in order to reduce noise and prevent the memory error issue."
   ]
  },
  {
   "cell_type": "code",
   "execution_count": 7,
   "metadata": {},
   "outputs": [
    {
     "data": {
      "text/plain": [
       "(19847947, 4)"
      ]
     },
     "execution_count": 7,
     "metadata": {},
     "output_type": "execute_result"
    }
   ],
   "source": [
    "# filter data\n",
    "ratings_thres = 50\n",
    "active_movies = list(movie_ct.query('count >= @ratings_thres').index)#select movie IDs that have at least 50 ratings\n",
    "ratings1=ratings[ratings.movieId.isin(active_movies)]\n",
    "ratings1.shape"
   ]
  },
  {
   "cell_type": "markdown",
   "metadata": {},
   "source": [
    "3. Build item-based collaborative filtering model using KNN"
   ]
  },
  {
   "cell_type": "code",
   "execution_count": 12,
   "metadata": {},
   "outputs": [],
   "source": [
    "#created a item-user data matrix, where the rows denote different movies, columns denote different users, and each cell denotes the ratings \n",
    "movie_user_mat = ratings1.pivot(index='movieId', columns='userId', values='rating').fillna(0)\n",
    "# transform matrix to scipy sparse matrix for efficient arithmatic operations\n",
    "#movie_user_mat_sparse = csr_matrix(movie_user_mat.values)\n"
   ]
  },
  {
   "cell_type": "code",
   "execution_count": 8,
   "metadata": {},
   "outputs": [],
   "source": [
    "def recommendation_knn_existing_user(data,userid, n_recommendations,verbose=True):\n",
    "        rated_high_movies=ratings.loc[ratings.userId==userid,:].sort_values('rating',ascending=False).movieId[:5].tolist()#selected top 5 movies which user has rated high \n",
    "        testset=data.loc[[i for i in data.index if i in rated_high_movies],:] #test data \n",
    "        trainset=data.loc[[i for i in data.index if i not in rated_high_movies],:] #train data \n",
    "        #fit KNN model \n",
    "        model_knn = NearestNeighbors(metric='cosine', algorithm='brute', n_neighbors=n_recommendations, n_jobs=-1)\n",
    "        model_knn.fit(trainset)\n",
    "        distances, indices =model_knn.kneighbors(testset, n_neighbors=n_recommendations)\n",
    "        #obtain movieIDs for those we recommended  \n",
    "        raw_recommended=trainset.iloc[list(chain(*indices)),:].index.tolist()\n",
    "        #merge back movie information \n",
    "        recommended=movies.set_index('movieId').loc[raw_recommended]\n",
    "        #append distance \n",
    "        recommended['distance']=list(chain(*distances))\n",
    "         #obtain movieIDs for those we recommended from\n",
    "        recommended_from=movies.set_index('movieId').loc[testset.index.tolist()]\n",
    "        recommended_from=recommended_from.iloc[np.repeat(np.arange(len(recommended_from)), n_recommendations)]\n",
    "        \n",
    "        res=pd.concat([recommended_from.reset_index(drop=True), recommended.reset_index(drop=True)], axis=1)\n",
    "        res.columns=['recommended_from_title',\"recommended_from_genres\",'title',\"genres\",\"distance\"]\n",
    "        #drop duplicated recommended movies and order by similarity \n",
    "        res_remove_duplicates=res.sort_values('distance').drop_duplicates('title').sort_index()\n",
    "        #select top 10 movies with the least distance \n",
    "        res_remove_duplicates=res_remove_duplicates.loc[:n_recommendations,:]\n",
    "        if verbose:\n",
    "            print('Recommendation system start to make inference')\n",
    "            print('......\\n')\n",
    "            for i in range(res_remove_duplicates.shape[0]):\n",
    "                print('{0}: {1}, with distance of {2} from the movie you liked {3}'.format(i+1, res_remove_duplicates.iloc[i,2], res_remove_duplicates.iloc[i,4],res_remove_duplicates.iloc[i,0]))\n",
    "        return res_remove_duplicates\n",
    "            \n",
    "def recommendation_knn_new_user(data,fav_movie, n_recommendations,verbose=True):\n",
    "        print('You have input movie:', fav_movie)\n",
    "        match_tuple = []\n",
    "    # get match\n",
    "        match_tuple = []\n",
    "    # get match\n",
    "        for i in range(movies.shape[0]):\n",
    "            ratio = fuzz.ratio(movies.title[i].lower(), fav_movie.lower())\n",
    "            if ratio >= 65:\n",
    "                match_tuple.append((movies.title[i], movies.movieId[i], ratio))\n",
    "   # sort\n",
    "        match_tuple = sorted(match_tuple, key=lambda x: x[2])[::-1]\n",
    "        if not match_tuple:\n",
    "            print('Oops! No match is found, input another movie name')\n",
    "            return\n",
    "        else:\n",
    "            print('Found possible matches in our database: {0}\\n'.format([x[0] for x in match_tuple]))\n",
    "        idx=match_tuple[0][1]\n",
    "        model_knn = NearestNeighbors(metric='cosine', algorithm='brute', n_neighbors=n_recommendations, n_jobs=-1)\n",
    "        model_knn.fit(data)\n",
    "        distances, indices = distances, indices = model_knn.kneighbors(data.loc[idx:idx+1,:], n_neighbors=n_recommendations+1)\n",
    "\n",
    "        raw_recommended=data.iloc[list(chain(*indices)),:].index.tolist()[1:]\n",
    "\n",
    "        recommended=movies.set_index('movieId').loc[raw_recommended]\n",
    "        #append distance \n",
    "        recommended['distance']=list(chain(*distances))[1:]\n",
    "         #obtain movieIDs for those we recommended from\n",
    "        recommended_from=movies[movies.movieId==idx]\n",
    "        recommended_from=recommended_from.iloc[np.repeat(np.arange(len(recommended_from)), 10)]\n",
    "        res=pd.concat([recommended_from.reset_index(drop=True), recommended.reset_index(drop=True)], axis=1)\n",
    "        res.columns=['movieId','recommended_from_title',\"recommended_from_genres\",'title',\"genres\",\"distance\"]\n",
    "        #drop duplicated recommended movies and order by similarity \n",
    "        res_remove_duplicates=res.sort_values('distance').drop_duplicates('title').sort_index()\n",
    "        #select top 10 movies with the least distance \n",
    "        res_remove_duplicates=res_remove_duplicates.loc[:n_recommendations,:]\n",
    "        if verbose:\n",
    "            print('Recommendation system start to make inference')\n",
    "            print('......\\n')\n",
    "            for i in range(res_remove_duplicates.shape[0]):\n",
    "                print('{0}: {1}, with distance of {2}'.format(i+1, res_remove_duplicates.iloc[i,3], res_remove_duplicates.iloc[i,5]))\n",
    "\n",
    "        return res_remove_duplicates"
   ]
  },
  {
   "cell_type": "markdown",
   "metadata": {},
   "source": [
    "Try out the recommendation system:\n",
    "\n",
    "suppose we are interested in a specific user on file, we recommended movies based on the top 5 movies he/she has rated: "
   ]
  },
  {
   "cell_type": "code",
   "execution_count": 157,
   "metadata": {},
   "outputs": [
    {
     "name": "stdout",
     "output_type": "stream",
     "text": [
      "User with ID number 22874 has been selected\n"
     ]
    }
   ],
   "source": [
    "#select a random user \n",
    "import random\n",
    "userid=random.randint(1,n_users)\n",
    "print('User with ID number {} has been selected'.format(userid))"
   ]
  },
  {
   "cell_type": "code",
   "execution_count": 158,
   "metadata": {},
   "outputs": [
    {
     "name": "stdout",
     "output_type": "stream",
     "text": [
      "Recommendation system start to make inference\n",
      "......\n",
      "\n",
      "1: Raiders of the Lost Ark (Indiana Jones and the Raiders of the Lost Ark) (1981), with distance of 0.39982539188115884 from the movie you liked Princess Bride, The (1987)\n",
      "2: Star Wars: Episode V - The Empire Strikes Back (1980), with distance of 0.40879310557036697 from the movie you liked Princess Bride, The (1987)\n",
      "3: Monty Python and the Holy Grail (1975), with distance of 0.4342648863520687 from the movie you liked Princess Bride, The (1987)\n",
      "4: Back to the Future (1985), with distance of 0.4399884549362366 from the movie you liked Princess Bride, The (1987)\n",
      "5: Indiana Jones and the Last Crusade (1989), with distance of 0.4505104920892238 from the movie you liked Princess Bride, The (1987)\n",
      "6: Star Wars: Episode IV - A New Hope (1977), with distance of 0.455221508572182 from the movie you liked Princess Bride, The (1987)\n",
      "7: Groundhog Day (1993), with distance of 0.4554302067517295 from the movie you liked Princess Bride, The (1987)\n",
      "8: Ferris Bueller's Day Off (1986), with distance of 0.4657933799702677 from the movie you liked Princess Bride, The (1987)\n",
      "9: Star Wars: Episode VI - Return of the Jedi (1983), with distance of 0.467011323286615 from the movie you liked Princess Bride, The (1987)\n",
      "10: Ghostbusters (a.k.a. Ghost Busters) (1984), with distance of 0.492824344970643 from the movie you liked Princess Bride, The (1987)\n",
      "11: Princess Mononoke (Mononoke-hime) (1997), with distance of 0.44282162773652756 from the movie you liked Spirited Away (Sen to Chihiro no kamikakushi) (2001)\n"
     ]
    },
    {
     "data": {
      "text/html": [
       "<div>\n",
       "<style scoped>\n",
       "    .dataframe tbody tr th:only-of-type {\n",
       "        vertical-align: middle;\n",
       "    }\n",
       "\n",
       "    .dataframe tbody tr th {\n",
       "        vertical-align: top;\n",
       "    }\n",
       "\n",
       "    .dataframe thead th {\n",
       "        text-align: right;\n",
       "    }\n",
       "</style>\n",
       "<table border=\"1\" class=\"dataframe\">\n",
       "  <thead>\n",
       "    <tr style=\"text-align: right;\">\n",
       "      <th></th>\n",
       "      <th>recommended_from_title</th>\n",
       "      <th>recommended_from_genres</th>\n",
       "      <th>title</th>\n",
       "      <th>genres</th>\n",
       "      <th>distance</th>\n",
       "    </tr>\n",
       "  </thead>\n",
       "  <tbody>\n",
       "    <tr>\n",
       "      <th>0</th>\n",
       "      <td>Princess Bride, The (1987)</td>\n",
       "      <td>Action|Adventure|Comedy|Fantasy|Romance</td>\n",
       "      <td>Raiders of the Lost Ark (Indiana Jones and the...</td>\n",
       "      <td>Action|Adventure</td>\n",
       "      <td>0.399825</td>\n",
       "    </tr>\n",
       "    <tr>\n",
       "      <th>1</th>\n",
       "      <td>Princess Bride, The (1987)</td>\n",
       "      <td>Action|Adventure|Comedy|Fantasy|Romance</td>\n",
       "      <td>Star Wars: Episode V - The Empire Strikes Back...</td>\n",
       "      <td>Action|Adventure|Sci-Fi</td>\n",
       "      <td>0.408793</td>\n",
       "    </tr>\n",
       "    <tr>\n",
       "      <th>2</th>\n",
       "      <td>Princess Bride, The (1987)</td>\n",
       "      <td>Action|Adventure|Comedy|Fantasy|Romance</td>\n",
       "      <td>Monty Python and the Holy Grail (1975)</td>\n",
       "      <td>Adventure|Comedy|Fantasy</td>\n",
       "      <td>0.434265</td>\n",
       "    </tr>\n",
       "    <tr>\n",
       "      <th>3</th>\n",
       "      <td>Princess Bride, The (1987)</td>\n",
       "      <td>Action|Adventure|Comedy|Fantasy|Romance</td>\n",
       "      <td>Back to the Future (1985)</td>\n",
       "      <td>Adventure|Comedy|Sci-Fi</td>\n",
       "      <td>0.439988</td>\n",
       "    </tr>\n",
       "    <tr>\n",
       "      <th>4</th>\n",
       "      <td>Princess Bride, The (1987)</td>\n",
       "      <td>Action|Adventure|Comedy|Fantasy|Romance</td>\n",
       "      <td>Indiana Jones and the Last Crusade (1989)</td>\n",
       "      <td>Action|Adventure</td>\n",
       "      <td>0.450510</td>\n",
       "    </tr>\n",
       "    <tr>\n",
       "      <th>5</th>\n",
       "      <td>Princess Bride, The (1987)</td>\n",
       "      <td>Action|Adventure|Comedy|Fantasy|Romance</td>\n",
       "      <td>Star Wars: Episode IV - A New Hope (1977)</td>\n",
       "      <td>Action|Adventure|Sci-Fi</td>\n",
       "      <td>0.455222</td>\n",
       "    </tr>\n",
       "    <tr>\n",
       "      <th>6</th>\n",
       "      <td>Princess Bride, The (1987)</td>\n",
       "      <td>Action|Adventure|Comedy|Fantasy|Romance</td>\n",
       "      <td>Groundhog Day (1993)</td>\n",
       "      <td>Comedy|Fantasy|Romance</td>\n",
       "      <td>0.455430</td>\n",
       "    </tr>\n",
       "    <tr>\n",
       "      <th>7</th>\n",
       "      <td>Princess Bride, The (1987)</td>\n",
       "      <td>Action|Adventure|Comedy|Fantasy|Romance</td>\n",
       "      <td>Ferris Bueller's Day Off (1986)</td>\n",
       "      <td>Comedy</td>\n",
       "      <td>0.465793</td>\n",
       "    </tr>\n",
       "    <tr>\n",
       "      <th>8</th>\n",
       "      <td>Princess Bride, The (1987)</td>\n",
       "      <td>Action|Adventure|Comedy|Fantasy|Romance</td>\n",
       "      <td>Star Wars: Episode VI - Return of the Jedi (1983)</td>\n",
       "      <td>Action|Adventure|Sci-Fi</td>\n",
       "      <td>0.467011</td>\n",
       "    </tr>\n",
       "    <tr>\n",
       "      <th>9</th>\n",
       "      <td>Princess Bride, The (1987)</td>\n",
       "      <td>Action|Adventure|Comedy|Fantasy|Romance</td>\n",
       "      <td>Ghostbusters (a.k.a. Ghost Busters) (1984)</td>\n",
       "      <td>Action|Comedy|Sci-Fi</td>\n",
       "      <td>0.492824</td>\n",
       "    </tr>\n",
       "    <tr>\n",
       "      <th>10</th>\n",
       "      <td>Spirited Away (Sen to Chihiro no kamikakushi) ...</td>\n",
       "      <td>Adventure|Animation|Fantasy</td>\n",
       "      <td>Princess Mononoke (Mononoke-hime) (1997)</td>\n",
       "      <td>Action|Adventure|Animation|Drama|Fantasy</td>\n",
       "      <td>0.442822</td>\n",
       "    </tr>\n",
       "  </tbody>\n",
       "</table>\n",
       "</div>"
      ],
      "text/plain": [
       "                               recommended_from_title  \\\n",
       "0                          Princess Bride, The (1987)   \n",
       "1                          Princess Bride, The (1987)   \n",
       "2                          Princess Bride, The (1987)   \n",
       "3                          Princess Bride, The (1987)   \n",
       "4                          Princess Bride, The (1987)   \n",
       "5                          Princess Bride, The (1987)   \n",
       "6                          Princess Bride, The (1987)   \n",
       "7                          Princess Bride, The (1987)   \n",
       "8                          Princess Bride, The (1987)   \n",
       "9                          Princess Bride, The (1987)   \n",
       "10  Spirited Away (Sen to Chihiro no kamikakushi) ...   \n",
       "\n",
       "                    recommended_from_genres  \\\n",
       "0   Action|Adventure|Comedy|Fantasy|Romance   \n",
       "1   Action|Adventure|Comedy|Fantasy|Romance   \n",
       "2   Action|Adventure|Comedy|Fantasy|Romance   \n",
       "3   Action|Adventure|Comedy|Fantasy|Romance   \n",
       "4   Action|Adventure|Comedy|Fantasy|Romance   \n",
       "5   Action|Adventure|Comedy|Fantasy|Romance   \n",
       "6   Action|Adventure|Comedy|Fantasy|Romance   \n",
       "7   Action|Adventure|Comedy|Fantasy|Romance   \n",
       "8   Action|Adventure|Comedy|Fantasy|Romance   \n",
       "9   Action|Adventure|Comedy|Fantasy|Romance   \n",
       "10              Adventure|Animation|Fantasy   \n",
       "\n",
       "                                                title  \\\n",
       "0   Raiders of the Lost Ark (Indiana Jones and the...   \n",
       "1   Star Wars: Episode V - The Empire Strikes Back...   \n",
       "2              Monty Python and the Holy Grail (1975)   \n",
       "3                           Back to the Future (1985)   \n",
       "4           Indiana Jones and the Last Crusade (1989)   \n",
       "5           Star Wars: Episode IV - A New Hope (1977)   \n",
       "6                                Groundhog Day (1993)   \n",
       "7                     Ferris Bueller's Day Off (1986)   \n",
       "8   Star Wars: Episode VI - Return of the Jedi (1983)   \n",
       "9          Ghostbusters (a.k.a. Ghost Busters) (1984)   \n",
       "10           Princess Mononoke (Mononoke-hime) (1997)   \n",
       "\n",
       "                                      genres  distance  \n",
       "0                           Action|Adventure  0.399825  \n",
       "1                    Action|Adventure|Sci-Fi  0.408793  \n",
       "2                   Adventure|Comedy|Fantasy  0.434265  \n",
       "3                    Adventure|Comedy|Sci-Fi  0.439988  \n",
       "4                           Action|Adventure  0.450510  \n",
       "5                    Action|Adventure|Sci-Fi  0.455222  \n",
       "6                     Comedy|Fantasy|Romance  0.455430  \n",
       "7                                     Comedy  0.465793  \n",
       "8                    Action|Adventure|Sci-Fi  0.467011  \n",
       "9                       Action|Comedy|Sci-Fi  0.492824  \n",
       "10  Action|Adventure|Animation|Drama|Fantasy  0.442822  "
      ]
     },
     "execution_count": 158,
     "metadata": {},
     "output_type": "execute_result"
    }
   ],
   "source": [
    "recommendation_knn_existing_user(movie_user_mat,userid, n_recommendations=10)"
   ]
  },
  {
   "cell_type": "markdown",
   "metadata": {},
   "source": [
    "Suppose I just sign up on the website, and the website don't have information about my movie watching history or rating history. Then the system will ask me to name one movie I liked the most, and then recommend movies similar to that."
   ]
  },
  {
   "cell_type": "code",
   "execution_count": 156,
   "metadata": {},
   "outputs": [
    {
     "name": "stdout",
     "output_type": "stream",
     "text": [
      "name one of your favourite movieiron man\n",
      "You have input movie: iron man\n",
      "Found possible matches in our database: ['Iron Man (2008)', 'My Own Man']\n",
      "\n",
      "Recommendation system start to make inference\n",
      "......\n",
      "\n",
      "1: Dark Knight, The (2008), with distance of 0.3742058573335898\n",
      "2: Star Trek (2009), with distance of 0.4132744620437929\n",
      "3: WALL·E (2008), with distance of 0.42882540769215305\n",
      "4: Batman Begins (2005), with distance of 0.4411773473401579\n",
      "5: Bourne Ultimatum, The (2007), with distance of 0.4508639925222967\n",
      "6: Casino Royale (2006), with distance of 0.45761216162029694\n",
      "7: Avatar (2009), with distance of 0.4614256282983722\n",
      "8: Iron Man 2 (2010), with distance of 0.46337905754915143\n",
      "9: V for Vendetta (2006), with distance of 0.48080602167268693\n",
      "10: District 9 (2009), with distance of 0.486612030805717\n"
     ]
    },
    {
     "data": {
      "text/html": [
       "<div>\n",
       "<style scoped>\n",
       "    .dataframe tbody tr th:only-of-type {\n",
       "        vertical-align: middle;\n",
       "    }\n",
       "\n",
       "    .dataframe tbody tr th {\n",
       "        vertical-align: top;\n",
       "    }\n",
       "\n",
       "    .dataframe thead th {\n",
       "        text-align: right;\n",
       "    }\n",
       "</style>\n",
       "<table border=\"1\" class=\"dataframe\">\n",
       "  <thead>\n",
       "    <tr style=\"text-align: right;\">\n",
       "      <th></th>\n",
       "      <th>movieId</th>\n",
       "      <th>recommended_from_title</th>\n",
       "      <th>recommended_from_genres</th>\n",
       "      <th>title</th>\n",
       "      <th>genres</th>\n",
       "      <th>distance</th>\n",
       "    </tr>\n",
       "  </thead>\n",
       "  <tbody>\n",
       "    <tr>\n",
       "      <th>0</th>\n",
       "      <td>59315</td>\n",
       "      <td>Iron Man (2008)</td>\n",
       "      <td>Action|Adventure|Sci-Fi</td>\n",
       "      <td>Dark Knight, The (2008)</td>\n",
       "      <td>Action|Crime|Drama|IMAX</td>\n",
       "      <td>0.374206</td>\n",
       "    </tr>\n",
       "    <tr>\n",
       "      <th>1</th>\n",
       "      <td>59315</td>\n",
       "      <td>Iron Man (2008)</td>\n",
       "      <td>Action|Adventure|Sci-Fi</td>\n",
       "      <td>Star Trek (2009)</td>\n",
       "      <td>Action|Adventure|Sci-Fi|IMAX</td>\n",
       "      <td>0.413274</td>\n",
       "    </tr>\n",
       "    <tr>\n",
       "      <th>2</th>\n",
       "      <td>59315</td>\n",
       "      <td>Iron Man (2008)</td>\n",
       "      <td>Action|Adventure|Sci-Fi</td>\n",
       "      <td>WALL·E (2008)</td>\n",
       "      <td>Adventure|Animation|Children|Romance|Sci-Fi</td>\n",
       "      <td>0.428825</td>\n",
       "    </tr>\n",
       "    <tr>\n",
       "      <th>3</th>\n",
       "      <td>59315</td>\n",
       "      <td>Iron Man (2008)</td>\n",
       "      <td>Action|Adventure|Sci-Fi</td>\n",
       "      <td>Batman Begins (2005)</td>\n",
       "      <td>Action|Crime|IMAX</td>\n",
       "      <td>0.441177</td>\n",
       "    </tr>\n",
       "    <tr>\n",
       "      <th>4</th>\n",
       "      <td>59315</td>\n",
       "      <td>Iron Man (2008)</td>\n",
       "      <td>Action|Adventure|Sci-Fi</td>\n",
       "      <td>Bourne Ultimatum, The (2007)</td>\n",
       "      <td>Action|Crime|Thriller</td>\n",
       "      <td>0.450864</td>\n",
       "    </tr>\n",
       "    <tr>\n",
       "      <th>5</th>\n",
       "      <td>59315</td>\n",
       "      <td>Iron Man (2008)</td>\n",
       "      <td>Action|Adventure|Sci-Fi</td>\n",
       "      <td>Casino Royale (2006)</td>\n",
       "      <td>Action|Adventure|Thriller</td>\n",
       "      <td>0.457612</td>\n",
       "    </tr>\n",
       "    <tr>\n",
       "      <th>6</th>\n",
       "      <td>59315</td>\n",
       "      <td>Iron Man (2008)</td>\n",
       "      <td>Action|Adventure|Sci-Fi</td>\n",
       "      <td>Avatar (2009)</td>\n",
       "      <td>Action|Adventure|Sci-Fi|IMAX</td>\n",
       "      <td>0.461426</td>\n",
       "    </tr>\n",
       "    <tr>\n",
       "      <th>7</th>\n",
       "      <td>59315</td>\n",
       "      <td>Iron Man (2008)</td>\n",
       "      <td>Action|Adventure|Sci-Fi</td>\n",
       "      <td>Iron Man 2 (2010)</td>\n",
       "      <td>Action|Adventure|Sci-Fi|Thriller|IMAX</td>\n",
       "      <td>0.463379</td>\n",
       "    </tr>\n",
       "    <tr>\n",
       "      <th>8</th>\n",
       "      <td>59315</td>\n",
       "      <td>Iron Man (2008)</td>\n",
       "      <td>Action|Adventure|Sci-Fi</td>\n",
       "      <td>V for Vendetta (2006)</td>\n",
       "      <td>Action|Sci-Fi|Thriller|IMAX</td>\n",
       "      <td>0.480806</td>\n",
       "    </tr>\n",
       "    <tr>\n",
       "      <th>9</th>\n",
       "      <td>59315</td>\n",
       "      <td>Iron Man (2008)</td>\n",
       "      <td>Action|Adventure|Sci-Fi</td>\n",
       "      <td>District 9 (2009)</td>\n",
       "      <td>Mystery|Sci-Fi|Thriller</td>\n",
       "      <td>0.486612</td>\n",
       "    </tr>\n",
       "  </tbody>\n",
       "</table>\n",
       "</div>"
      ],
      "text/plain": [
       "   movieId recommended_from_title  recommended_from_genres  \\\n",
       "0    59315        Iron Man (2008)  Action|Adventure|Sci-Fi   \n",
       "1    59315        Iron Man (2008)  Action|Adventure|Sci-Fi   \n",
       "2    59315        Iron Man (2008)  Action|Adventure|Sci-Fi   \n",
       "3    59315        Iron Man (2008)  Action|Adventure|Sci-Fi   \n",
       "4    59315        Iron Man (2008)  Action|Adventure|Sci-Fi   \n",
       "5    59315        Iron Man (2008)  Action|Adventure|Sci-Fi   \n",
       "6    59315        Iron Man (2008)  Action|Adventure|Sci-Fi   \n",
       "7    59315        Iron Man (2008)  Action|Adventure|Sci-Fi   \n",
       "8    59315        Iron Man (2008)  Action|Adventure|Sci-Fi   \n",
       "9    59315        Iron Man (2008)  Action|Adventure|Sci-Fi   \n",
       "\n",
       "                          title                                       genres  \\\n",
       "0       Dark Knight, The (2008)                      Action|Crime|Drama|IMAX   \n",
       "1              Star Trek (2009)                 Action|Adventure|Sci-Fi|IMAX   \n",
       "2                 WALL·E (2008)  Adventure|Animation|Children|Romance|Sci-Fi   \n",
       "3          Batman Begins (2005)                            Action|Crime|IMAX   \n",
       "4  Bourne Ultimatum, The (2007)                        Action|Crime|Thriller   \n",
       "5          Casino Royale (2006)                    Action|Adventure|Thriller   \n",
       "6                 Avatar (2009)                 Action|Adventure|Sci-Fi|IMAX   \n",
       "7             Iron Man 2 (2010)        Action|Adventure|Sci-Fi|Thriller|IMAX   \n",
       "8         V for Vendetta (2006)                  Action|Sci-Fi|Thriller|IMAX   \n",
       "9             District 9 (2009)                      Mystery|Sci-Fi|Thriller   \n",
       "\n",
       "   distance  \n",
       "0  0.374206  \n",
       "1  0.413274  \n",
       "2  0.428825  \n",
       "3  0.441177  \n",
       "4  0.450864  \n",
       "5  0.457612  \n",
       "6  0.461426  \n",
       "7  0.463379  \n",
       "8  0.480806  \n",
       "9  0.486612  "
      ]
     },
     "execution_count": 156,
     "metadata": {},
     "output_type": "execute_result"
    }
   ],
   "source": [
    "fav_movie=input('name one of your favourite movie')\n",
    "recommendation_knn_new_user(data,fav_movie, n_recommendations=10)\n"
   ]
  },
  {
   "cell_type": "markdown",
   "metadata": {},
   "source": [
    "Until now, we have built a simple recommendation engine using item-based collaborative filtering and KNN algorithm. The model works for general purpose, however, it has several limitation:\n",
    "    1. It biased towards popular movies: unpopular movies will in general have very low similarity score to all the other movies in the database, despite the fact that they might actually be very similar to some movies in terms of genre, etc. This is usually the downside of item-based collaborative filtering system. \n",
    "    2. KNN algorithm is computationally expensive, therefore, it might not be scalale. \n",
    "In the next section, we are going to build another recommendation engine using Singular Value Decomposition (SVD), blend the list of recommended movies from this method to the list we obtained from the KNN model, to further improve the recommendation engine."
   ]
  },
  {
   "cell_type": "markdown",
   "metadata": {},
   "source": [
    "4. Build movie recommendation engine using SVD "
   ]
  },
  {
   "cell_type": "code",
   "execution_count": 9,
   "metadata": {},
   "outputs": [],
   "source": [
    "#created a user-item data matrix, where the rows denote different users, columns denote different movies, and each cell denotes the ratings \n",
    "user_movie_mat = ratings1.pivot(index='userId', columns='movieId', values='rating').fillna(0)\n",
    "\n"
   ]
  },
  {
   "cell_type": "code",
   "execution_count": 164,
   "metadata": {},
   "outputs": [
    {
     "data": {
      "text/plain": [
       "(138493, 10524)"
      ]
     },
     "execution_count": 164,
     "metadata": {},
     "output_type": "execute_result"
    }
   ],
   "source": [
    "user_movie_mat.mean(axis=1)"
   ]
  },
  {
   "cell_type": "code",
   "execution_count": null,
   "metadata": {},
   "outputs": [],
   "source": [
    "#normalize the ratings by user's mean rating \n",
    "R_norm=user_movie_mat-user_movie_mat.mean(axis=1)"
   ]
  },
  {
   "cell_type": "code",
   "execution_count": null,
   "metadata": {},
   "outputs": [],
   "source": [
    "#fit SVD \n",
    "from scipy.sparse.linalg import svds\n",
    "U, sigma, Vt = svds(R_norm) #U: user preference matrix: how each user prefer each concept \n",
    "                            #Vt: how relevant each feature is to each movie \n",
    "sigma = np.diag(sigma)                    "
   ]
  },
  {
   "cell_type": "code",
   "execution_count": 13,
   "metadata": {},
   "outputs": [
    {
     "data": {
      "text/plain": [
       "Int64Index([     1,      2,      3,      4,      5,      6,      7,      8,\n",
       "                 9,     10,\n",
       "            ...\n",
       "            138484, 138485, 138486, 138487, 138488, 138489, 138490, 138491,\n",
       "            138492, 138493],\n",
       "           dtype='int64', name='userId', length=138493)"
      ]
     },
     "execution_count": 13,
     "metadata": {},
     "output_type": "execute_result"
    }
   ],
   "source": []
  },
  {
   "cell_type": "code",
   "execution_count": null,
   "metadata": {},
   "outputs": [],
   "source": []
  },
  {
   "cell_type": "code",
   "execution_count": null,
   "metadata": {},
   "outputs": [],
   "source": []
  },
  {
   "cell_type": "code",
   "execution_count": null,
   "metadata": {},
   "outputs": [],
   "source": []
  },
  {
   "cell_type": "code",
   "execution_count": null,
   "metadata": {},
   "outputs": [],
   "source": []
  },
  {
   "cell_type": "code",
   "execution_count": null,
   "metadata": {},
   "outputs": [],
   "source": []
  },
  {
   "cell_type": "code",
   "execution_count": null,
   "metadata": {},
   "outputs": [],
   "source": [
    "def recommendation_svd(data,userid,n_recommendations,verbose=True):\n",
    "    \n",
    "    R_norm=data-data.mean(axis=1).reshape(-1,1)\n",
    "    \n",
    "    U, sigma, Vt = svds(R_norm) \n",
    "    sigma = np.diag(sigma)\n",
    "    all_user_predicted_ratings = np.dot(np.dot(U, sigma), Vt) + data.mean(axis=1)#making predictions\n",
    "    ind=userid-1\n",
    "    \n",
    "    rated_movies=np.where(data[ind]!=0)[0]\n",
    "    original_ratings=data[ind,rated_movies]\n",
    "    rated_movies_df = pd.DataFrame(data=np.column_stack((rated_movies+1,original_ratings)),columns=['movieId','rating'])\n",
    "    rated_movies_df=rated_movies_df.sort_values('rating',ascending=False)\n",
    "    rated_movies_df=rated_movies_df.merge(movies,'left',on=\"movieId\")\n",
    "    unratted_movies=np.where(data[ind]==0)[0]\n",
    "    predicted_ratings=all_user_predicted_ratings[ind,unratted_movies]\n",
    "    recommended_movies = pd.DataFrame(data=np.column_stack((unratted_movies+1,predicted_ratings)),columns=['movieId','rating'])\n",
    "    recommended_movies=recommended_movies.merge(movies,'left',on=\"movieId\")\n",
    "    if verbose:\n",
    "        print('Recommendation system start to make inference')\n",
    "        print('......\\n')\n",
    "        for i in range(recommended_movies.shape[0]):\n",
    "                print('{0}: {1}'.format(i+1, recommended_movies.iloc[i,2]))\n",
    "\n",
    "    return [rated_movies_df,recommended_movies.sort_values('rating',ascending=False)[:n_recommendations]]\n",
    "\n",
    "    \n",
    "    \n",
    "    \n",
    "    \n"
   ]
  },
  {
   "cell_type": "markdown",
   "metadata": {},
   "source": [
    "5.Combined the two methods \n"
   ]
  },
  {
   "cell_type": "code",
   "execution_count": null,
   "metadata": {},
   "outputs": [],
   "source": [
    "def recommendation(new_user=False,movie_user_data,user_movie_data,userid,n_recommendations):\n",
    "    if not new_user:\n",
    "        res_knn=recommendation_knn_existing_user(movie_user_data,userid, n_recommendations,verbose=False)\n",
    "        rated_movie,res_svd=recommendation_svd(user_movie_data,userid,n_recommendations,verbose=False)\n",
    "        print('Recommendation system start to make inference')\n",
    "        print('......\\n')\n",
    "        res=[i for i in set(res_knn['title'],res_svd['title'])]\n",
    "        res_1=res[np.random.randint(0,len(res),size=n_recommendations)]\n",
    "        for i in range(n_recommendations)):\n",
    "                print('{0}: {1}'.format(i+1, res_1[i]))\n",
    "    else:\n",
    "        fav_movie=input('name one of your favourite movie')\n",
    "        res_knn=recommendation_knn_new_user(movie_user_data,fav_movie, n_recommendations)\n",
    "        ind=res_knn.movieId.unique()\n",
    "        dict1 = dict( (a,0.0) for a in user_movie_data.columns if a!=ind else (a,5.0))\n",
    "        user_movie_data.append(dict1)\n",
    "        rated_movie,res_svd=recommendation_svd(user_movie_data,?,n_recommendations,verbose=True)\n",
    "    \n",
    "        print('Recommendation system start to make inference')\n",
    "        print('......\\n')\n",
    "        res=[i for i in set(res_knn['title'],res_svd['title'])]\n",
    "        res_1=res[np.random.randint(0,len(res),size=n_recommendations)]\n",
    "        for i in range(n_recommendations)):\n",
    "                print('{0}: {1}'.format(i+1, res_1[i]))\n",
    " \n",
    "\n",
    "        "
   ]
  },
  {
   "cell_type": "code",
   "execution_count": null,
   "metadata": {},
   "outputs": [],
   "source": []
  },
  {
   "cell_type": "code",
   "execution_count": null,
   "metadata": {},
   "outputs": [],
   "source": []
  },
  {
   "cell_type": "code",
   "execution_count": null,
   "metadata": {},
   "outputs": [],
   "source": []
  },
  {
   "cell_type": "code",
   "execution_count": null,
   "metadata": {},
   "outputs": [],
   "source": []
  }
 ],
 "metadata": {
  "kernelspec": {
   "display_name": "Python 3",
   "language": "python",
   "name": "python3"
  },
  "language_info": {
   "codemirror_mode": {
    "name": "ipython",
    "version": 3
   },
   "file_extension": ".py",
   "mimetype": "text/x-python",
   "name": "python",
   "nbconvert_exporter": "python",
   "pygments_lexer": "ipython3",
   "version": "3.7.0"
  }
 },
 "nbformat": 4,
 "nbformat_minor": 2
}
